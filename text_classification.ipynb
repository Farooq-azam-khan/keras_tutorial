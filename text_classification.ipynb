{
 "cells": [
  {
   "cell_type": "code",
   "execution_count": 1,
   "metadata": {},
   "outputs": [
    {
     "name": "stdout",
     "output_type": "stream",
     "text": [
      "2.6.0\n",
      "Number of GPU's available: 1\n"
     ]
    }
   ],
   "source": [
    "import tensorflow as tf \n",
    "# import numpy as np \n",
    "print(tf.__version__)\n",
    "\n",
    "print(f'Number of GPU\\'s available:', len(tf.config.list_physical_devices('GPU')))"
   ]
  },
  {
   "cell_type": "markdown",
   "metadata": {},
   "source": [
    "`TextVectorization` Layer will be used for word splitting and indexing. "
   ]
  },
  {
   "cell_type": "markdown",
   "metadata": {},
   "source": [
    "# Setup / Load data"
   ]
  },
  {
   "cell_type": "code",
   "execution_count": 3,
   "metadata": {},
   "outputs": [
    {
     "name": "stderr",
     "output_type": "stream",
     "text": [
      "  % Total    % Received % Xferd  Average Speed   Time    Time     Time  Current\n",
      "                                 Dload  Upload   Total   Spent    Left  Speed\n",
      "\n",
      "  0     0    0     0    0     0      0      0 --:--:-- --:--:-- --:--:--     0\n",
      "  0     0    0     0    0     0      0      0 --:--:-- --:--:-- --:--:--     0\n",
      "  0 80.2M    0  320k    0     0   232k      0  0:05:53  0:00:01  0:05:52  232k\n",
      "  1 80.2M    1 1488k    0     0   628k      0  0:02:10  0:00:02  0:02:08  628k\n",
      "  4 80.2M    4 3584k    0     0  1064k      0  0:01:17  0:00:03  0:01:14 1064k\n",
      "  8 80.2M    8 7200k    0     0  1646k      0  0:00:49  0:00:04  0:00:45 1645k\n",
      " 15 80.2M   15 12.7M    0     0  2431k      0  0:00:33  0:00:05  0:00:28 2672k\n",
      " 25 80.2M   25 20.2M    0     0  3263k      0  0:00:25  0:00:06  0:00:19 4101k\n",
      " 38 80.2M   38 30.8M    0     0  4285k      0  0:00:19  0:00:07  0:00:12 6017k\n",
      " 52 80.2M   52 42.2M    0     0  5177k      0  0:00:15  0:00:08  0:00:07 7947k\n",
      " 67 80.2M   67 54.2M    0     0  5934k      0  0:00:13  0:00:09  0:00:04 9694k\n",
      " 81 80.2M   81 65.1M    0     0  6436k      0  0:00:12  0:00:10  0:00:02 10.5M\n",
      " 95 80.2M   95 76.6M    0     0  6901k      0  0:00:11  0:00:11 --:--:-- 11.2M\n",
      "100 80.2M  100 80.2M    0     0  7021k      0  0:00:11  0:00:11 --:--:-- 11.3M\n"
     ]
    }
   ],
   "source": [
    "!curl -O https://ai.stanford.edu/~amaas/data/sentiment/aclImdb_v1.tar.gz\n",
    "!tar -xf aclImdb_v1.tar.gz"
   ]
  },
  {
   "cell_type": "code",
   "execution_count": 2,
   "metadata": {},
   "outputs": [
    {
     "data": {
      "text/plain": [
       "['imdb.vocab', 'imdbEr.txt', 'README', 'test', 'train']"
      ]
     },
     "execution_count": 2,
     "metadata": {},
     "output_type": "execute_result"
    }
   ],
   "source": [
    "import os \n",
    "os.listdir('aclImdb')"
   ]
  },
  {
   "cell_type": "code",
   "execution_count": 5,
   "metadata": {},
   "outputs": [
    {
     "name": "stdout",
     "output_type": "stream",
     "text": [
      "Being an Austrian myself this has been a straight knock in my face. Fortunately I don't live nowhere near the place where this movie takes place but unfortunately it portrays everything that the rest of Austria hates about Viennese people (or people close to that region). And it is very easy to read that this is exactly the directors intention: to let your head sink into your hands and say \"Oh my god, how can THAT be possible!\". No, not with me, the (in my opinion) totally exaggerated uncensored swinger club scene is not necessary, I watch porn, sure, but in this context I was rather disgusted than put in the right context.<br /><br />This movie tells a story about how misled people who suffer from lack of education or bad company try to survive and live in a world of redundancy and boring horizons. A girl who is treated like a whore by her super-jealous boyfriend (and still keeps coming back), a female teacher who discovers her masochism by putting the life of her super-cruel \"lover\" on the line, an old couple who has an almost mathematical daily cycle (she is the \"official replacement\" of his ex wife), a couple that has just divorced and has the ex husband suffer under the acts of his former wife obviously having a relationship with her masseuse and finally a crazy hitchhiker who asks her drivers the most unusual questions and stretches their nerves by just being super-annoying.<br /><br />After having seen it you feel almost nothing. You're not even shocked, sad, depressed or feel like doing anything... Maybe that's why I gave it 7 points, it made me react in a way I never reacted before. If that's good or bad is up to you!\n"
     ]
    }
   ],
   "source": [
    "!cat aclImdb/train/pos/6248_7.txt"
   ]
  },
  {
   "cell_type": "code",
   "execution_count": 6,
   "metadata": {},
   "outputs": [],
   "source": [
    "# usup is unsupervised dataset (do not need it for text classification)\n",
    "!rm -r aclImdb/train/unsup"
   ]
  },
  {
   "cell_type": "markdown",
   "metadata": {},
   "source": [
    "You can use `tf.keras.preprocessing.text_dataset_from_directory` to generate a labeled `tf.data.Dataset` object from a set of text files on disk filed into class-specific folders. \n",
    "\n",
    "Will generate 80% training 20% validation form the train folder. \n",
    "\n",
    "Validation set is uesful for tuning hyperparameters, such as model architecture, for which the test dataset should not be used. Before productionizing the model, it should be retrained using all available training data (without creating a validation set) so its performance is maximized. \n",
    "\n",
    "When using `validation_split` & `subset` make sure to pass random seed or `shuffle=False` so that the validation & training splits have no overlap. "
   ]
  },
  {
   "cell_type": "code",
   "execution_count": 3,
   "metadata": {},
   "outputs": [
    {
     "name": "stdout",
     "output_type": "stream",
     "text": [
      "Found 25000 files belonging to 2 classes.\n",
      "Using 20000 files for training.\n",
      "Found 25000 files belonging to 2 classes.\n",
      "Using 5000 files for validation.\n",
      "Found 25000 files belonging to 2 classes.\n",
      "Number of batches in raw_train_ds: 625\n",
      "Number of batches in raw_val_ds: 157\n",
      "Number of batches in raw_test_ds: 782\n"
     ]
    }
   ],
   "source": [
    "batch_size = 32 \n",
    "validation_split = 0.2 \n",
    "seed = 1337\n",
    "\n",
    "raw_train_ds = tf.keras.preprocessing.text_dataset_from_directory(\n",
    "    'aclImdb/train', \n",
    "    batch_size=batch_size, \n",
    "    validation_split=validation_split, \n",
    "    subset='training', \n",
    "    seed=seed,\n",
    ")\n",
    "raw_val_ds = tf.keras.preprocessing.text_dataset_from_directory(\n",
    "    'aclImdb/train', \n",
    "    batch_size=batch_size, \n",
    "    validation_split=validation_split, \n",
    "    subset='validation', \n",
    "    seed=seed\n",
    ")\n",
    "\n",
    "raw_test_ds = tf.keras.preprocessing.text_dataset_from_directory(\n",
    "    'aclImdb/test', \n",
    "    batch_size = batch_size \n",
    ")\n",
    "\n",
    "print(f'Number of batches in raw_train_ds: {raw_train_ds.cardinality()}')\n",
    "print(f'Number of batches in raw_val_ds: {raw_val_ds.cardinality()}')\n",
    "print(f'Number of batches in raw_test_ds: {raw_test_ds.cardinality()}')"
   ]
  },
  {
   "cell_type": "code",
   "execution_count": 4,
   "metadata": {},
   "outputs": [
    {
     "name": "stdout",
     "output_type": "stream",
     "text": [
      "1 => b'I\\'ve seen tons of science fiction from the 70s; some horrendously bad, and others thought provoking and truly frightening. Soylent Green fits into the latter category. Yes, at times it\\'s a little campy, and yes, the furniture is good for a giggle or two, but some of the film seems awfully prescient. Here we have a film, 9 years before Blade Runner, that dares to imagine the future as somthing dark, scary, and nihilistic. Both Charlton Heston and Edward G. Robinson fare far better in this than The Ten Commandments, and Robinson\\'s assisted-suicide scene is creepily prescient of Kevorkian and his ilk. Some of the attitudes are dated (can you imagine a filmmaker getting away with the \"women as furniture\" concept in our oh-so-politically-correct-90s?), but it\\'s rare to find a film from the Me Decade that actually can make you think. This is one I\\'d love to see on the big screen, because even in a widescreen presentation, I don\\'t think the overall scope of this film would receive its due. Check it out.'\n",
      "1 => b'First than anything, I\\'m not going to praise I\\xc3\\xb1arritu\\'s short film, even I\\'m Mexican and proud of his success in mainstream Hollywood.<br /><br />In another hand, I see most of the reviews focuses on their favorite (and not so) short films; but we are forgetting that there is a subtle bottom line that circles the whole compilation, and maybe it will not be so pleasant for American people. (Even if that was not the main purpose of the producers) <br /><br />What i\\'m talking about is that most of the short films does not show the suffering that WASP people went through because the terrorist attack on September 11th, but the suffering of the Other people.<br /><br />Do you need proofs about what i\\'m saying? Look, in the Bosnia short film, the message is: \"You cry because of the people who died in the Towers, but we (The Others = East Europeans) are crying long ago for the crimes committed against our women and nobody pay attention to us like the whole world has done to you\".<br /><br />Even though the Burkina Fasso story is more in comedy, there is a the same thought: \"You are angry because Osama Bin Laden punched you in an evil way, but we (The Others = Africans) should be more angry, because our people is dying of hunger, poverty and AIDS long time ago, and nobody pay attention to us like the whole world has done to you\".<br /><br />Look now at the Sean Penn short: The fall of the Twin Towers makes happy to a lonely (and alienated) man. So the message is that the Power and the Greed (symbolized by the Towers) must fall for letting the people see the sun rise and the flowers blossom? It is remarkable that this terrible bottom line has been proposed by an American. There is so much irony in this short film that it is close to be subversive.<br /><br />Well, the Ken Loach (very know because his anti-capitalism ideology) is much more clearly and shameless in going straight to the point: \"You are angry because your country has been attacked by evil forces, but we (The Others = Latin Americans) suffered at a similar date something worst, and nobody remembers our grief as the whole world has done to you\".<br /><br />It is like if the creative of this project wanted to say to Americans: \"You see now, America? You are not the only that have become victim of the world violence, you are not alone in your pain and by the way, we (the Others = the Non Americans) have been suffering a lot more than you from long time ago; so, we are in solidarity with you in your pain... and by the way, we are sorry because you have had some taste of your own medicine\" Only the Mexican and the French short films showed some compassion and sympathy for American people; the others are like a slap on the face for the American State, that is not equal to American People.'\n",
      "1 => b'Blood Castle (aka Scream of the Demon Lover, Altar of Blood, Ivanna--the best, but least exploitation cinema-sounding title, and so on) is a very traditional Gothic Romance film. That means that it has big, creepy castles, a headstrong young woman, a mysterious older man, hints of horror and the supernatural, and romance elements in the contemporary sense of that genre term. It also means that it is very deliberately paced, and that the film will work best for horror mavens who are big fans of understatement. If you love films like Robert Wise\\'s The Haunting (1963), but you also have a taste for late 1960s/early 1970s Spanish and Italian horror, you may love Blood Castle, as well.<br /><br />Baron Janos Dalmar (Carlos Quiney) lives in a large castle on the outskirts of a traditional, unspecified European village. The locals fear him because legend has it that whenever he beds a woman, she soon after ends up dead--the consensus is that he sets his ferocious dogs on them. This is quite a problem because the Baron has a very healthy appetite for women. At the beginning of the film, yet another woman has turned up dead and mutilated.<br /><br />Meanwhile, Dr. Ivanna Rakowsky (Erna Sch\\xc3\\xbcrer) has appeared in the center of the village, asking to be taken to Baron Dalmar\\'s castle. She\\'s an out-of-towner who has been hired by the Baron for her expertise in chemistry. Of course, no one wants to go near the castle. Finally, Ivanna finds a shady individual (who becomes even shadier) to take her. Once there, an odd woman who lives in the castle, Olga (Cristiana Galloni), rejects Ivanna and says that she shouldn\\'t be there since she\\'s a woman. Baron Dalmar vacillates over whether she should stay. She ends up staying, but somewhat reluctantly. The Baron has hired her to try to reverse the effects of severe burns, which the Baron\\'s brother, Igor, is suffering from.<br /><br />Unfortunately, the Baron\\'s brother appears to be just a lump of decomposing flesh in a vat of bizarre, blackish liquid. And furthermore, Ivanna is having bizarre, hallucinatory dreams. Just what is going on at the castle? Is the Baron responsible for the crimes? Is he insane? <br /><br />I wanted to like Blood Castle more than I did. As I mentioned, the film is very deliberate in its pacing, and most of it is very understated. I can go either way on material like that. I don\\'t care for The Haunting (yes, I\\'m in a very small minority there), but I\\'m a big fan of 1960s and 1970s European horror. One of my favorite directors is Mario Bava. I also love Dario Argento\\'s work from that period. But occasionally, Blood Castle moved a bit too slow for me at times. There are large chunks that amount to scenes of not very exciting talking alternated with scenes of Ivanna slowly walking the corridors of the castle.<br /><br />But the atmosphere of the film is decent. Director Jos\\xc3\\xa9 Luis Merino managed more than passable sets and locations, and they\\'re shot fairly well by Emanuele Di Cola. However, Blood Castle feels relatively low budget, and this is a Roger Corman-produced film, after all (which usually means a low-budget, though often surprisingly high quality \"quickie\"). So while there is a hint of the lushness of Bava\\'s colors and complex set decoration, everything is much more minimalist. Of course, it doesn\\'t help that the Retromedia print I watched looks like a 30-year old photograph that\\'s been left out in the sun too long. It appears \"washed out\", with compromised contrast.<br /><br />Still, Merino and Di Cola occasionally set up fantastic visuals. For example, a scene of Ivanna walking in a darkened hallway that\\'s shot from an exaggerated angle, and where an important plot element is revealed through shadows on a wall only. There are also a couple Ingmar Bergmanesque shots, where actors are exquisitely blocked to imply complex relationships, besides just being visually attractive and pulling your eye deep into the frame.<br /><br />The performances are fairly good, and the women--especially Sch\\xc3\\xbcrer--are very attractive. Merino exploits this fact by incorporating a decent amount of nudity. Sch\\xc3\\xbcrer went on to do a number of films that were as much soft corn porn as they were other genres, with English titles such as Sex Life in a Woman\\'s Prison (1974), Naked and Lustful (1974), Strip Nude for Your Killer (1975) and Erotic Exploits of a Sexy Seducer (1977). Blood Castle is much tamer, but in addition to the nudity, there are still mild scenes suggesting rape and bondage, and of course the scenes mixing sex and death.<br /><br />The primary attraction here, though, is probably the story, which is much a slow-burning romance as anything else. The horror elements, the mystery elements, and a somewhat unexpected twist near the end are bonuses, but in the end, Blood Castle is a love story, about a couple overcoming various difficulties and antagonisms (often with physical threats or harms) to be together.'\n"
     ]
    }
   ],
   "source": [
    "# using eager execution instead of Session/Graph context to see the raw data and \n",
    "# figure out how normalization will work \n",
    "\n",
    "for text_batch, label_batch in raw_train_ds.take(1): # take 1 batch \n",
    "    for i in range(3): # take the first 3 values in the batch (out of batch_size=32) \n",
    "        print(label_batch.numpy()[i], '=>', str(text_batch.numpy()[i]))\n",
    "        "
   ]
  },
  {
   "cell_type": "markdown",
   "metadata": {},
   "source": [
    "# Prepare the Data \n",
    "\n",
    "The `<br />` needs to be removed. "
   ]
  },
  {
   "cell_type": "code",
   "execution_count": 5,
   "metadata": {},
   "outputs": [],
   "source": [
    "import string \n",
    "import re \n",
    "\n",
    "# normal text standardizer does not strip HTML tags from text. \n",
    "# custom standardization function needs to be created \n",
    "def custom_standardization(input_data): \n",
    "    lowercase = tf.strings.lower(input_data) \n",
    "    stripped_html = tf.strings.regex_replace(lowercase, '<br />', ' ') \n",
    "    return tf.strings.regex_replace(\n",
    "        stripped_html, f'[{re.escape(string.punctuation)}]', ''\n",
    "    )"
   ]
  },
  {
   "cell_type": "code",
   "execution_count": 6,
   "metadata": {},
   "outputs": [],
   "source": [
    "from tensorflow.keras.layers import TextVectorization \n",
    "\n",
    "\n",
    "# model constants \n",
    "max_features = 20_000 \n",
    "embedding_dim = 128 \n",
    "sequence_length = 500 \n",
    "\n",
    "# after standardization we can instantiate out text vectorization layer \n",
    "# using this layer to normalize, split, and map strings to integers thus setting out `output_mode` to `int`\n",
    "# setting an explicit maximum sequence length since CNN layers will not support ragged sequences \n",
    "vectorize_layer = TextVectorization(\n",
    "    standardize=custom_standardization, \n",
    "    max_tokens=max_features, \n",
    "    output_mode='int', \n",
    "    output_sequence_length=sequence_length\n",
    ")\n",
    "\n",
    "# text only dataset \n",
    "text_ds = raw_train_ds.map(lambda x,y:x)\n",
    "vectorize_layer.adapt(text_ds)"
   ]
  },
  {
   "cell_type": "markdown",
   "metadata": {},
   "source": [
    "## Two options to vectorize the data \n",
    "\n",
    "__Option 1: Make it part of the model__, so as to obtain a model that processes raw strings\n",
    "\n",
    "```python \n",
    "text_input = tf.keras.Input(shape=(1,), dtype=tf.string, name='text')\n",
    "x = vectorize_layer(text_input) \n",
    "x = layers.Embedding(max_features+1, embedding_dim)(x)\n",
    "...\n",
    "```\n",
    "\n",
    "__Option 2: Apply it to the text dataset__, to obtain a dataset of word indices, then feed it into a model that expects integer sequences as inputs. \n",
    "\n",
    "An important difference between the two is that option 2 enables you to do _async CPU processing and buffering_ of your data when training on GPU. So if you're training the model on the GPU, you probably want to go with this options to get the best performance. \n",
    "\n",
    "If we were to export our model to production, we'd ship a model that accepts raw strings as input. "
   ]
  },
  {
   "cell_type": "code",
   "execution_count": 7,
   "metadata": {},
   "outputs": [],
   "source": [
    "def vectorize_text(text, label): \n",
    "    text = tf.expand_dims(text, -1) \n",
    "    return vectorize_layer(text), label \n",
    "\n",
    "# Vectorize the data \n",
    "train_ds = raw_train_ds.map(vectorize_text)\n",
    "val_ds = raw_val_ds.map(vectorize_text)\n",
    "test_ds = raw_test_ds.map(vectorize_text)\n",
    "\n",
    "# Do async prefetching / buffering of the data for best performance on GPU \n",
    "train_ds = train_ds.cache().prefetch(buffer_size=10)\n",
    "val_ds = val_ds.cache().prefetch(buffer_size=10) \n",
    "test_ds = test_ds.cache().prefetch(buffer_size=10)"
   ]
  },
  {
   "cell_type": "markdown",
   "metadata": {},
   "source": [
    "# Build the Model \n",
    "\n",
    "Simple 1D convnet with an `Embedding` layer "
   ]
  },
  {
   "cell_type": "code",
   "execution_count": 10,
   "metadata": {},
   "outputs": [
    {
     "name": "stdout",
     "output_type": "stream",
     "text": [
      "Model: \"text_classification\"\n",
      "_________________________________________________________________\n",
      "Layer (type)                 Output Shape              Param #   \n",
      "=================================================================\n",
      "input_3 (InputLayer)         [(None, None)]            0         \n",
      "_________________________________________________________________\n",
      "embedding_2 (Embedding)      (None, None, 128)         2560000   \n",
      "_________________________________________________________________\n",
      "dropout_2 (Dropout)          (None, None, 128)         0         \n",
      "_________________________________________________________________\n",
      "conv1d_4 (Conv1D)            (None, None, 128)         114816    \n",
      "_________________________________________________________________\n",
      "conv1d_5 (Conv1D)            (None, None, 128)         114816    \n",
      "_________________________________________________________________\n",
      "global_average_pooling1d_2 ( (None, 128)               0         \n",
      "_________________________________________________________________\n",
      "dense_4 (Dense)              (None, 128)               16512     \n",
      "_________________________________________________________________\n",
      "dense_5 (Dense)              (None, 0)                 0         \n",
      "_________________________________________________________________\n",
      "predictions (Dense)          (None, 1)                 1         \n",
      "=================================================================\n",
      "Total params: 2,806,145\n",
      "Trainable params: 2,806,145\n",
      "Non-trainable params: 0\n",
      "_________________________________________________________________\n",
      "None\n"
     ]
    }
   ],
   "source": [
    "from tensorflow.keras import layers \n",
    "\n",
    "inputs = tf.keras.Input(shape=(None,), dtype='int64')\n",
    "\n",
    "# map vocab indicies into a space of dimensionality \n",
    "x = layers.Embedding(max_features, embedding_dim)(inputs) \n",
    "x = layers.Dropout(0.5)(x) \n",
    "\n",
    "# Conv1D + global max pooling (1D convnet becuase it is text data ) \n",
    "x = layers.Conv1D(128, 7, padding='valid', activation='relu', strides=3)(x)\n",
    "x = layers.Conv1D(128, 7, padding='valid', activation='relu', strides=3)(x)\n",
    "x = layers.GlobalAveragePooling1D()(x) \n",
    "\n",
    "# vanilla hidden layer \n",
    "x = layers.Dense(128, activation='relu')(x) \n",
    "x = layers.Dense(0.5)(x) \n",
    "\n",
    "# project onto a single unit output layer and squash it with a sigmoid ([0,1] range i.e. probability of it being positive or negative)\n",
    "predictions = layers.Dense(1, activation='sigmoid', name='predictions')(x) \n",
    "model = tf.keras.Model(inputs, predictions, name='text_classification') \n",
    "print(model.summary())\n"
   ]
  },
  {
   "cell_type": "code",
   "execution_count": 11,
   "metadata": {},
   "outputs": [],
   "source": [
    "# binary crossentropy and adam optimizer \n",
    "model.compile(loss='binary_crossentropy', optimizer='adam', metrics=['accuracy'])"
   ]
  },
  {
   "cell_type": "markdown",
   "metadata": {},
   "source": [
    "# Model Training "
   ]
  },
  {
   "cell_type": "code",
   "execution_count": null,
   "metadata": {},
   "outputs": [
    {
     "ename": "Error",
     "evalue": "Kernel is dead",
     "output_type": "error",
     "traceback": [
      "Error: Kernel is dead",
      "at g._sendKernelShellControl (c:\\Users\\fkhan\\.vscode\\extensions\\ms-toolsai.jupyter-2021.9.1001312534\\out\\client\\extension.js:52:1006305)",
      "at g.sendShellMessage (c:\\Users\\fkhan\\.vscode\\extensions\\ms-toolsai.jupyter-2021.9.1001312534\\out\\client\\extension.js:52:1006074)",
      "at g.requestExecute (c:\\Users\\fkhan\\.vscode\\extensions\\ms-toolsai.jupyter-2021.9.1001312534\\out\\client\\extension.js:52:1008616)",
      "at d.requestExecute (c:\\Users\\fkhan\\.vscode\\extensions\\ms-toolsai.jupyter-2021.9.1001312534\\out\\client\\extension.js:37:328037)",
      "at S.requestExecute (c:\\Users\\fkhan\\.vscode\\extensions\\ms-toolsai.jupyter-2021.9.1001312534\\out\\client\\extension.js:32:19215)",
      "at w.executeCodeCell (c:\\Users\\fkhan\\.vscode\\extensions\\ms-toolsai.jupyter-2021.9.1001312534\\out\\client\\extension.js:52:300924)",
      "at w.execute (c:\\Users\\fkhan\\.vscode\\extensions\\ms-toolsai.jupyter-2021.9.1001312534\\out\\client\\extension.js:52:300551)",
      "at w.start (c:\\Users\\fkhan\\.vscode\\extensions\\ms-toolsai.jupyter-2021.9.1001312534\\out\\client\\extension.js:52:296215)",
      "at runMicrotasks (<anonymous>)",
      "at processTicksAndRejections (internal/process/task_queues.js:93:5)",
      "at t.CellExecutionQueue.executeQueuedCells (c:\\Users\\fkhan\\.vscode\\extensions\\ms-toolsai.jupyter-2021.9.1001312534\\out\\client\\extension.js:52:310950)",
      "at t.CellExecutionQueue.start (c:\\Users\\fkhan\\.vscode\\extensions\\ms-toolsai.jupyter-2021.9.1001312534\\out\\client\\extension.js:52:310490)"
     ]
    }
   ],
   "source": [
    "epochs = 3 \n",
    "\n",
    "model.fit(train_ds, validation_data=val_ds, epochs=epochs)"
   ]
  },
  {
   "cell_type": "code",
   "execution_count": 12,
   "metadata": {},
   "outputs": [
    {
     "name": "stdout",
     "output_type": "stream",
     "text": [
      "782/782 [==============================] - 39s 46ms/step - loss: 0.6931 - accuracy: 0.5000\n"
     ]
    },
    {
     "data": {
      "text/plain": [
       "[0.6931474804878235, 0.5]"
      ]
     },
     "execution_count": 12,
     "metadata": {},
     "output_type": "execute_result"
    }
   ],
   "source": [
    "model.evaluate(test_ds)"
   ]
  },
  {
   "cell_type": "code",
   "execution_count": null,
   "metadata": {},
   "outputs": [],
   "source": []
  }
 ],
 "metadata": {
  "interpreter": {
   "hash": "b203e1dbec2aedf01a1f5462c8bcde5a35074e5e5d04341a9ee3b88b6f2674e6"
  },
  "kernelspec": {
   "display_name": "Python 3.8.10 64-bit ('keras_functional-_MSxnM2L': pipenv)",
   "name": "python3"
  },
  "language_info": {
   "codemirror_mode": {
    "name": "ipython",
    "version": 3
   },
   "file_extension": ".py",
   "mimetype": "text/x-python",
   "name": "python",
   "nbconvert_exporter": "python",
   "pygments_lexer": "ipython3",
   "version": "3.8.10"
  },
  "orig_nbformat": 4
 },
 "nbformat": 4,
 "nbformat_minor": 2
}
