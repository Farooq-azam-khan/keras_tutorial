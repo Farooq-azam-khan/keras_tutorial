{
 "cells": [
  {
   "cell_type": "markdown",
   "metadata": {},
   "source": [
    "# Introduction \n",
    "\n",
    "Example: \n",
    "- Input: \"535+61\"\n",
    "- Output: \"596\""
   ]
  },
  {
   "cell_type": "markdown",
   "metadata": {},
   "source": [
    "# Setup "
   ]
  },
  {
   "cell_type": "code",
   "execution_count": 1,
   "metadata": {},
   "outputs": [],
   "source": [
    "from tensorflow import keras \n",
    "from tensorflow.keras import layers \n",
    "import numpy as np \n",
    "\n",
    "# parametrs for model and datset \n",
    "TRAINING_SIZE = 50_000 \n",
    "DIGITS = 3 \n",
    "REVERSE = True \n",
    "\n",
    "# max len of input \n",
    "MAXLEN = DIGITS + 1 + DIGITS "
   ]
  },
  {
   "cell_type": "markdown",
   "metadata": {},
   "source": [
    "# Generate the Data"
   ]
  },
  {
   "cell_type": "code",
   "execution_count": 3,
   "metadata": {},
   "outputs": [],
   "source": [
    "class CharacterTable: \n",
    "    '''\n",
    "        Given a set of characters: \n",
    "        + encode them to a one-hot integer representation \n",
    "        + decode the one-hot or integer repreesntation to thier character output \n",
    "        + decode a vector of probabilities to their character output \n",
    "    '''\n",
    "    def __init__(self, chars) -> None:\n",
    "        '''\n",
    "        # Arguments\n",
    "            chars: Characters that can appear in the input. \n",
    "        '''\n",
    "        \n",
    "        self.chars = sorted(set(chars))\n",
    "\n",
    "        self.char_indicies = dict((c,i) for i, c in enumerate(self.chars))\n",
    "        self.indicies_char = dict((i,c) for i, c in enumerate(self.chars))\n",
    "\n",
    "    def encode(self, C, num_rows):\n",
    "        '''\n",
    "        # Arguments \n",
    "            C: string, to be encoded \n",
    "            num_rows: Number of rows in the returned one-ot encoding. \n",
    "                This is used to keep the # of rows for each data the same. \n",
    "        '''\n",
    "        x = np.zeros((num_rows, len(self.chars)))\n",
    "        for i, c in enumerate(C): \n",
    "            x[i, self.char_indicies[c]] = 1 \n",
    "        return x \n",
    "    \n",
    "    def decode(self, x, calc_argmax=True):\n",
    "        '''\n",
    "        # Arguments \n",
    "            x: A vector or 2D array of probabilities or one-hot representation;\n",
    "                or a vector of character indicies\n",
    "            calc_argmax: whether to find the character index with maximum \n",
    "                probability, defaluts to `True`. \n",
    "        '''\n",
    "        if calc_argmax:\n",
    "            x = x.argmax(axis=-1)\n",
    "        return ''.join(self.indicies_char[x] for x in x)\n"
   ]
  },
  {
   "cell_type": "code",
   "execution_count": null,
   "metadata": {},
   "outputs": [],
   "source": [
    "chars = '0123456789+ ' \n",
    "ctable = CharacterTable(chars)\n",
    "\n",
    "questions = [] \n",
    "expected = [] \n",
    "seen = set() \n",
    "print('Generating Data...') \n",
    "while len(questions) < TRAINING_SIZE:\n",
    "    f = lambda: int(\n",
    "        ''.join(\n",
    "            np.random.choice(list('0123456789'))\n",
    "            for i in range(np.random.randint(1,DIGITS+1))\n",
    "        )\n",
    "    )"
   ]
  }
 ],
 "metadata": {
  "interpreter": {
   "hash": "b203e1dbec2aedf01a1f5462c8bcde5a35074e5e5d04341a9ee3b88b6f2674e6"
  },
  "kernelspec": {
   "display_name": "Python 3.8.10 64-bit ('keras_functional-_MSxnM2L': pipenv)",
   "name": "python3"
  },
  "language_info": {
   "codemirror_mode": {
    "name": "ipython",
    "version": 3
   },
   "file_extension": ".py",
   "mimetype": "text/x-python",
   "name": "python",
   "nbconvert_exporter": "python",
   "pygments_lexer": "ipython3",
   "version": "3.8.10"
  },
  "orig_nbformat": 4
 },
 "nbformat": 4,
 "nbformat_minor": 2
}
